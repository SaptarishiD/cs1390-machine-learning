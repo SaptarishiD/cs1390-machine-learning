{
 "cells": [
  {
   "cell_type": "code",
   "execution_count": 3,
   "metadata": {},
   "outputs": [],
   "source": [
    "\n",
    "import numpy as np\n",
    "import math\n",
    "import matplotlib.pyplot as plt\n",
    "import matplotlib.patches as mpatches\n",
    "\n",
    "\n",
    "import pickle"
   ]
  },
  {
   "cell_type": "code",
   "execution_count": 4,
   "metadata": {},
   "outputs": [
    {
     "name": "stdout",
     "output_type": "stream",
     "text": [
      "dict_keys(['Vocabulary', 'XTrain', 'yTrain', 'XTest', 'yTest'])\n"
     ]
    }
   ],
   "source": [
    "with open('hwdata.pkl', 'rb') as f:\n",
    "    hwdata = pickle.load(f)\n",
    "    print(hwdata.keys())"
   ]
  },
  {
   "cell_type": "code",
   "execution_count": 5,
   "metadata": {},
   "outputs": [
    {
     "data": {
      "text/plain": [
       "(450, 26050)"
      ]
     },
     "execution_count": 5,
     "metadata": {},
     "output_type": "execute_result"
    }
   ],
   "source": [
    "# print(hwdata)\n",
    "vocabulary = hwdata[\"Vocabulary\"]\n",
    "XTrain = hwdata[\"XTrain\"]\n",
    "yTrain = hwdata[\"yTrain\"]\n",
    "XTest = hwdata[\"XTest\"]\n",
    "yTest = hwdata[\"yTest\"]\n",
    "\n",
    "type(hwdata[\"yTrain\"])\n",
    "hwdata[\"XTrain\"].shape"
   ]
  },
  {
   "cell_type": "code",
   "execution_count": 6,
   "metadata": {},
   "outputs": [],
   "source": [
    "\"\"\"\n",
    "    Compute the probability of P(X|Y).\n",
    "\n",
    "    :param\n",
    "        XTrain: numpy array of size [num_samples, feat_dim]\n",
    "          where num_samples is the number of samples\n",
    "          and feat_dim is the dimension of features\n",
    "        yTrain: numpy array of size [num_samples, 1]\n",
    "        a: default to 0.001\n",
    "        b: default to 0.9\n",
    "\n",
    "    :return: \n",
    "        D: numpy array of size [2, vocab_size] where\n",
    "          vocab_size is the size of vocabulary\n",
    "\"\"\"\n",
    "def NB_XGivenY(XTrain, yTrain, a=0.001, b=0.9): \n",
    "    num_samples, feat_dim = XTrain.shape\n",
    "    num_classes = 2                      # since we have just 2 classes: economist and onion\n",
    "    economist = yTrain[:,0] == 1         # boolean masks which are set to true if the class = 1 i.e. the i-th document belongs to the economist\n",
    "    onion = yTrain[:,0] == 2             # boolean masks which are set to true if the class = 2 i.e. the i-th document belongs to the onion\n",
    "\n",
    "    # boolean indexing of arrays so that we can pick subsets of the data\n",
    "    economist_matrix = XTrain[economist]    # subset of the training documents which belong to the economist\n",
    "    onion_matrix = XTrain[onion]            # subset of the training documents which belong to the onion\n",
    "\n",
    "    # for each word in the vocabulary, we sum the number of times it has appeared in economist articles. We add a +1 to avoid 0 probabilty\n",
    "    # we divide by the total number of articles in the economist to get the probability of each word in the economist\n",
    "    # we do the same for onion\n",
    "    # we divide the economist sum by the total number of articles in the economist (again adding a +1 so that we don't divide \n",
    "    # by 0 in case it happens there are no economist articles) to get the probability that each word occurs in an economist article\n",
    "    D = np.array([\n",
    "                    (np.sum(economist_matrix, axis=0) + a) / (economist_matrix.shape[0] + b),\n",
    "                    (np.sum(onion_matrix, axis=0) + a)     / (onion_matrix.shape[0] + b),        \n",
    "                ])\n",
    "    \n",
    "    return D\n",
    "    # raise NotImplementedError \n",
    "    # return D\n"
   ]
  },
  {
   "cell_type": "code",
   "execution_count": 7,
   "metadata": {},
   "outputs": [
    {
     "name": "stdout",
     "output_type": "stream",
     "text": [
      "350\n",
      "(100, 26050)\n"
     ]
    }
   ],
   "source": [
    "# estprob = NB_XGivenY(hwdata[\"XTrain\"], hwdata[\"yTrain\"])\n",
    "# print(estprob)\n",
    "economist = hwdata[\"yTrain\"][:,0] == 1\n",
    "onion = hwdata[\"yTrain\"][:,0] == 2\n",
    "vocabulary = hwdata[\"Vocabulary\"]\n",
    "# print(economist)\n",
    "economist_matrix = hwdata[\"XTrain\"][economist]\n",
    "print(economist_matrix.shape[0])\n",
    "\n",
    "onion_matrix = hwdata[\"XTrain\"][onion]\n",
    "print(onion_matrix.shape)\n"
   ]
  },
  {
   "cell_type": "code",
   "execution_count": 8,
   "metadata": {},
   "outputs": [
    {
     "name": "stdout",
     "output_type": "stream",
     "text": [
      "[1. 1. 0. ... 0. 1. 0.]\n",
      "0.9544159544159544\n"
     ]
    }
   ],
   "source": [
    "print(onion_matrix[0])\n",
    "# print(vocabulary[int(min(np.sum(economist_matrix, axis = 0)))])\n",
    "print(max( (np.sum(economist_matrix, axis = 0) + 1) / (1 + economist_matrix.shape[0]) ) )"
   ]
  },
  {
   "cell_type": "code",
   "execution_count": 9,
   "metadata": {},
   "outputs": [
    {
     "name": "stdout",
     "output_type": "stream",
     "text": [
      "0.9518409803362782\n",
      "['the']\n",
      "0.9910901883052528\n",
      "['a']\n",
      "100.0\n",
      "0.9542857142857143\n"
     ]
    }
   ],
   "source": [
    "D = NB_XGivenY(hwdata[\"XTrain\"], hwdata[\"yTrain\"])\n",
    "#largest value of the first row of D\n",
    "print(np.max(D[0,:]))\n",
    "print(vocabulary[np.argmax(D[0,:])])\n",
    "print(np.max(D[1,:]))\n",
    "print(vocabulary[np.argmax(D[1,:])])\n",
    "print(sum(onion_matrix[:,1]))\n",
    "print(sum(economist_matrix[:,31])/350.0)\n"
   ]
  },
  {
   "cell_type": "code",
   "execution_count": 10,
   "metadata": {},
   "outputs": [
    {
     "data": {
      "text/plain": [
       "array([[5.69965802e-01, 9.48991166e-01, 2.99233400e-01, ...,\n",
       "        2.84981476e-06, 3.04933029e-01, 2.84981476e-06],\n",
       "       [6.73944500e-01, 9.91090188e-01, 4.36085233e-01, ...,\n",
       "        9.92071358e-03, 3.17155600e-01, 9.91080278e-06]])"
      ]
     },
     "execution_count": 10,
     "metadata": {},
     "output_type": "execute_result"
    }
   ],
   "source": [
    "D"
   ]
  },
  {
   "cell_type": "code",
   "execution_count": 11,
   "metadata": {},
   "outputs": [],
   "source": [
    "\"\"\"\n",
    "    Compute the probability of P(Y).\n",
    "\n",
    "    :param\n",
    "        yTrain: numpy array of size [num_samples, 1]\n",
    "\n",
    "    :return: \n",
    "        p: a scalar for the probability of P(Y = 1)\n",
    "\"\"\"\n",
    "def NB_YPrior(yTrain):\n",
    "    economist = yTrain[:,0] == 1                        # class is economist\n",
    "    num_samples = yTrain.shape[0]                       \n",
    "    num_economist_articles = yTrain[economist].shape[0] # number of economist articles\n",
    "    p = num_economist_articles / num_samples            # probability of P(Y = 1)\n",
    "    return p\n",
    "\n",
    "    # raise NotImplementedError\n",
    "    # return p"
   ]
  },
  {
   "cell_type": "code",
   "execution_count": 12,
   "metadata": {},
   "outputs": [
    {
     "data": {
      "text/plain": [
       "0.7777777777777778"
      ]
     },
     "execution_count": 12,
     "metadata": {},
     "output_type": "execute_result"
    }
   ],
   "source": [
    "p = NB_YPrior(hwdata[\"yTrain\"])\n",
    "p"
   ]
  },
  {
   "cell_type": "code",
   "execution_count": 13,
   "metadata": {},
   "outputs": [],
   "source": [
    "def NB_Classify(D, p, X):\n",
    "    num_samples = X.shape[0]\n",
    "    y = np.zeros((num_samples))\n",
    "    log_D = np.log(D) \n",
    "    prob = np.dot(X, log_D.T) + np.log(np.array([p, 1 - p])) # we work in the logspace for numerical precision by taking log of small values like probabilities\n",
    "\n",
    "    for i in range(num_samples):\n",
    "        max_index = np.argmax(prob[i, :]) # choose economist or onion based on whose probability is higher\n",
    "        y[i] = max_index + 1 # adding 1 cause 1 and 2 are the classes\n",
    "\n",
    "    # raise NotImplementedError\n",
    "    return y.reshape(-1, 1)\n",
    "\n"
   ]
  },
  {
   "cell_type": "code",
   "execution_count": 14,
   "metadata": {},
   "outputs": [
    {
     "data": {
      "text/plain": [
       "153"
      ]
     },
     "execution_count": 14,
     "metadata": {},
     "output_type": "execute_result"
    }
   ],
   "source": [
    "Xtest = hwdata[\"XTest\"]\n",
    "yTest = hwdata[\"yTest\"]\n",
    "Xtest.shape[0]"
   ]
  },
  {
   "cell_type": "code",
   "execution_count": 15,
   "metadata": {},
   "outputs": [
    {
     "data": {
      "text/plain": [
       "(153, 1)"
      ]
     },
     "execution_count": 15,
     "metadata": {},
     "output_type": "execute_result"
    }
   ],
   "source": [
    "yPred = NB_Classify(D, p, Xtest)\n",
    "yPred.shape"
   ]
  },
  {
   "cell_type": "code",
   "execution_count": 16,
   "metadata": {},
   "outputs": [],
   "source": [
    "\"\"\"\n",
    "Compute the accuracy of predictions.\n",
    "\n",
    ":param\n",
    "    yHat: numpy array of size [num_samples, 1]\n",
    "    yTruth: numpy array of size [num_samples, 1]\n",
    "\n",
    ":return:\n",
    "    acc: a scalar for the accuracy\n",
    "\"\"\"\n",
    "def NB_ClassificationAccuracy(yHat, yTruth):\n",
    "    acc = np.sum(yHat == yTruth) / yTruth.shape[0]\n",
    "    return acc\n",
    "    \n",
    "    # raise NotImplementedError\n",
    "    # return acc"
   ]
  },
  {
   "cell_type": "markdown",
   "metadata": {},
   "source": [
    "### 2. Reporting results on test data"
   ]
  },
  {
   "cell_type": "code",
   "execution_count": 17,
   "metadata": {},
   "outputs": [
    {
     "name": "stdout",
     "output_type": "stream",
     "text": [
      "0.9738562091503268\n"
     ]
    }
   ],
   "source": [
    "acc = NB_ClassificationAccuracy(yPred, yTest)\n",
    "print(acc)"
   ]
  },
  {
   "cell_type": "code",
   "execution_count": null,
   "metadata": {},
   "outputs": [],
   "source": []
  }
 ],
 "metadata": {
  "kernelspec": {
   "display_name": "Python 3",
   "language": "python",
   "name": "python3"
  },
  "language_info": {
   "codemirror_mode": {
    "name": "ipython",
    "version": 3
   },
   "file_extension": ".py",
   "mimetype": "text/x-python",
   "name": "python",
   "nbconvert_exporter": "python",
   "pygments_lexer": "ipython3",
   "version": "3.9.6"
  }
 },
 "nbformat": 4,
 "nbformat_minor": 2
}
