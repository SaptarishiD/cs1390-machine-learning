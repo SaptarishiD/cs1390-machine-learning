{
 "cells": [
  {
   "cell_type": "code",
   "execution_count": 1,
   "metadata": {},
   "outputs": [],
   "source": [
    "import numpy as np\n",
    "from sklearn.tree import DecisionTreeClassifier\n",
    "from sklearn.metrics import accuracy_score\n",
    "import matplotlib.pyplot as plt\n",
    "from sklearn.model_selection import GridSearchCV\n",
    "\n"
   ]
  },
  {
   "cell_type": "code",
   "execution_count": 2,
   "metadata": {},
   "outputs": [
    {
     "data": {
      "text/plain": [
       "((2000, 22), (2000,), (1000, 22), (1000,), (1000, 22), (1000,), numpy.ndarray)"
      ]
     },
     "execution_count": 2,
     "metadata": {},
     "output_type": "execute_result"
    }
   ],
   "source": [
    "np.random.seed(0)\n",
    "\n",
    "tr = np.loadtxt('pa2train.txt')\n",
    "X_train = tr[:, :-1]    #everything except last\n",
    "Y_train = tr[:, -1]     #last which is the target label\n",
    "\n",
    "val = np.loadtxt('pa2validation.txt')\n",
    "X_val = val[:, :-1]\n",
    "Y_val = val[:, -1]\n",
    "\n",
    "te = np.loadtxt('pa2test.txt')\n",
    "X_test = te[:, :-1]\n",
    "Y_test = te[:, -1]\n",
    "\n",
    "X_train.shape, Y_train.shape, X_test.shape, Y_test.shape, X_val.shape, Y_val.shape, type(X_train)"
   ]
  },
  {
   "cell_type": "markdown",
   "metadata": {},
   "source": [
    "### 1. Bagging"
   ]
  },
  {
   "cell_type": "code",
   "execution_count": 3,
   "metadata": {},
   "outputs": [],
   "source": [
    "import numpy as np\n",
    "\n",
    "def bagging_data(X, num_bags=10):\n",
    "    bags = []\n",
    "    num_samples = X.shape[0]\n",
    "    for i in range(num_bags):\n",
    "        bootstrapped_indices = np.random.choice(num_samples, size=num_samples, replace=True)\n",
    "        bags.append(bootstrapped_indices)\n",
    "\n",
    "    return bags         # list of 'num_bags' number of lists corresponding to the 10 bags and each sublist has the bootstrapped indices\n"
   ]
  },
  {
   "cell_type": "code",
   "execution_count": 4,
   "metadata": {},
   "outputs": [
    {
     "data": {
      "text/plain": [
       "(10, 2000)"
      ]
     },
     "execution_count": 4,
     "metadata": {},
     "output_type": "execute_result"
    }
   ],
   "source": [
    "bags = bagging_data(X_train)\n",
    "np.array(bags).shape    "
   ]
  },
  {
   "cell_type": "markdown",
   "metadata": {},
   "source": [
    "### 2. Make random forest "
   ]
  },
  {
   "cell_type": "code",
   "execution_count": 5,
   "metadata": {},
   "outputs": [],
   "source": [
    "def make_random_forest(X, Y, num_trees, low = 5, high = 15): # we were asked to use 5-15 features\n",
    "    num_features = X.shape[1]                           #22\n",
    "    mybags = bagging_data(X, num_trees)\n",
    "    my_rand_forest = []                                 # I'll be keeping all the trees that comprise my random forest here\n",
    "    feature_count = np.zeros(num_features)         # we keep track of the count of each feature to help ensure that all features are used at least once\n",
    "    \n",
    "    for sublist in mybags:\n",
    "        bag_X = X[sublist]\n",
    "        bag_Y = Y[sublist]\n",
    "\n",
    "        features = np.random.randint(low, high+1)\n",
    "        selected_features = np.random.choice(num_features, features, replace=False) #randomly selecting features without replacement. Randomly selecting ensures approx equal\n",
    "        feature_count[selected_features] = feature_count[selected_features] + 1                     \n",
    "\n",
    "        bag_X = bag_X[:, selected_features] # so that we use only the randomly selected features and not all\n",
    "        DT = DecisionTreeClassifier(criterion='gini', max_features=features)\n",
    "        DT.fit(bag_X, bag_Y)\n",
    "\n",
    "        my_rand_forest.append((DT, selected_features))\n",
    "\n",
    "    return my_rand_forest, feature_count    "
   ]
  },
  {
   "cell_type": "code",
   "execution_count": 6,
   "metadata": {},
   "outputs": [
    {
     "data": {
      "text/plain": [
       "1.0"
      ]
     },
     "execution_count": 6,
     "metadata": {},
     "output_type": "execute_result"
    }
   ],
   "source": [
    "rf, fc = make_random_forest(X_train, Y_train, 10)\n",
    "min(fc)  # find the number of times the least used feature was used\n"
   ]
  },
  {
   "cell_type": "code",
   "execution_count": 7,
   "metadata": {},
   "outputs": [
    {
     "data": {
      "text/plain": [
       "[(DecisionTreeClassifier(max_features=13),\n",
       "  array([16, 20,  2,  5,  4, 14,  1,  6, 17,  7,  8,  3, 13])),\n",
       " (DecisionTreeClassifier(max_features=15),\n",
       "  array([16,  2, 19, 17,  5,  8,  0, 10, 14, 20,  6, 12, 13,  9,  1])),\n",
       " (DecisionTreeClassifier(max_features=14),\n",
       "  array([ 0,  3, 15, 21, 20, 11, 12,  2,  8, 17,  1,  4, 16,  6])),\n",
       " (DecisionTreeClassifier(max_features=5), array([ 3,  8,  2,  1, 20])),\n",
       " (DecisionTreeClassifier(max_features=8),\n",
       "  array([16,  4, 19, 11,  2,  7, 17,  3])),\n",
       " (DecisionTreeClassifier(max_features=11),\n",
       "  array([ 9, 21,  3,  2, 12, 17, 11,  7,  4, 15, 20])),\n",
       " (DecisionTreeClassifier(max_features=10),\n",
       "  array([ 0, 17, 14,  8,  6, 11, 20, 15,  1,  5])),\n",
       " (DecisionTreeClassifier(max_features=9),\n",
       "  array([ 2,  7, 15,  1, 10, 14,  0, 16,  8])),\n",
       " (DecisionTreeClassifier(max_features=11),\n",
       "  array([17,  8,  7, 19, 14,  0, 21, 16,  5,  1, 10])),\n",
       " (DecisionTreeClassifier(max_features=12),\n",
       "  array([ 9,  6,  0, 20, 21, 11,  4,  3, 19, 18,  1, 15]))]"
      ]
     },
     "execution_count": 7,
     "metadata": {},
     "output_type": "execute_result"
    }
   ],
   "source": [
    "rf"
   ]
  },
  {
   "cell_type": "markdown",
   "metadata": {},
   "source": [
    "### Evaluating and validating RF performance (untuned)"
   ]
  },
  {
   "cell_type": "code",
   "execution_count": 8,
   "metadata": {},
   "outputs": [],
   "source": [
    "def predict_and_evaluate(random_forest, X_val, y_val):\n",
    "    predictions = []\n",
    "\n",
    "    for tree, selected_features in random_forest:\n",
    "        X_tree = X_val[:, selected_features] #take selected features\n",
    "        tree_predictions = tree.predict(X_tree) \n",
    "        predictions.append(tree_predictions)\n",
    "\n",
    "    #vote\n",
    "    final_predictions = np.mean(predictions, axis=0)\n",
    "    final_predictions = (final_predictions >= 0.5).astype(int) #classes\n",
    "\n",
    "    \n",
    "    accuracy = accuracy_score(y_val, final_predictions)\n",
    "    \n",
    "    return accuracy"
   ]
  },
  {
   "cell_type": "code",
   "execution_count": 9,
   "metadata": {},
   "outputs": [
    {
     "name": "stdout",
     "output_type": "stream",
     "text": [
      "Untuned: 0.844\n"
     ]
    }
   ],
   "source": [
    "acc = predict_and_evaluate(rf, X_val, Y_val)\n",
    "print(f\"Untuned: {acc}\")"
   ]
  },
  {
   "cell_type": "code",
   "execution_count": 10,
   "metadata": {},
   "outputs": [],
   "source": [
    "num_trees = [10, 20, 30, 40, 50, 60, 70, 80, 90, 100]\n",
    "fts_max = list(range(5, 16))\n"
   ]
  },
  {
   "cell_type": "markdown",
   "metadata": {},
   "source": [
    "### figuring out which combination of params (max features and number of trees) give good results"
   ]
  },
  {
   "cell_type": "code",
   "execution_count": 11,
   "metadata": {},
   "outputs": [
    {
     "name": "stderr",
     "output_type": "stream",
     "text": [
      "100%|██████████| 10/10 [01:16<00:00,  7.65s/it]\n"
     ]
    }
   ],
   "source": [
    "from tqdm import tqdm # for tracking progress since this took some time\n",
    "\n",
    "accuracy_matrix = np.zeros((len(num_trees), len(fts_max)))\n",
    "\n",
    "for i in tqdm(range(len(num_trees))):\n",
    "    for j in range(len(fts_max)):\n",
    "        my_random_forest, fc = make_random_forest(X_train, Y_train, num_trees[i], fts_max[j])\n",
    "        accuracy_matrix[i, j] = predict_and_evaluate(my_random_forest, X_val, Y_val)"
   ]
  },
  {
   "cell_type": "code",
   "execution_count": 12,
   "metadata": {},
   "outputs": [
    {
     "data": {
      "text/plain": [
       "(60, 8, 0.892)"
      ]
     },
     "execution_count": 12,
     "metadata": {},
     "output_type": "execute_result"
    }
   ],
   "source": [
    "max_index = np.argmax(accuracy_matrix)\n",
    "i, j = np.unravel_index(max_index, accuracy_matrix.shape)\n",
    "num_trees[i], fts_max[j], accuracy_matrix[i, j]"
   ]
  },
  {
   "cell_type": "code",
   "execution_count": 13,
   "metadata": {},
   "outputs": [
    {
     "data": {
      "image/png": "[encoded data removed]",
      "text/plain": [
       "<Figure size 640x480 with 2 Axes>"
      ]
     },
     "metadata": {},
     "output_type": "display_data"
    }
   ],
   "source": [
    "\n",
    "plt.imshow(accuracy_matrix, cmap='viridis', interpolation='nearest')\n",
    "\n",
    "plt.xticks(np.arange(len(fts_max)), fts_max)\n",
    "plt.yticks(np.arange(len(num_trees)), num_trees)\n",
    "plt.colorbar()\n",
    "plt.show()"
   ]
  },
  {
   "cell_type": "code",
   "execution_count": 14,
   "metadata": {},
   "outputs": [
    {
     "name": "stdout",
     "output_type": "stream",
     "text": [
      "RF Tuned: 0.856\n"
     ]
    }
   ],
   "source": [
    "rf_tuned, fc = make_random_forest(X_train, Y_train, num_trees[i], fts_max[j], fts_max[j]+1)\n",
    "acc_rf_tuned = predict_and_evaluate(rf_tuned, X_val, Y_val)\n",
    "print(f\"RF Tuned: {acc_rf_tuned}\")"
   ]
  },
  {
   "cell_type": "markdown",
   "metadata": {},
   "source": [
    "### 4. finding best DT classifier within random forest"
   ]
  },
  {
   "cell_type": "code",
   "execution_count": 15,
   "metadata": {},
   "outputs": [],
   "source": [
    "def make__better_random_forest(X, Y, num_trees, low = 5, high = 15): # we were asked to use 5-15 features\n",
    "    num_features = X.shape[1]                           #22\n",
    "    mybags = bagging_data(X, num_trees)\n",
    "    my_rand_forest = []                                 # I'll be keeping all the trees that comprise my random forest here\n",
    "    feature_count = np.zeros(num_features)         # we keep track of the count of each feature to help ensure that all features are used at least once\n",
    "    \n",
    "    for sublist in tqdm(mybags):\n",
    "        bag_X = X[sublist]\n",
    "        bag_Y = Y[sublist]\n",
    "\n",
    "        features = np.random.randint(low, high+1)\n",
    "        selected_features = np.random.choice(num_features, features, replace=False) #randomly selecting features without replacement\n",
    "        feature_count[selected_features] = feature_count[selected_features] + 1                     \n",
    "\n",
    "        bag_X = bag_X[:, selected_features] # so that we use only the randomly selected features and not all\n",
    "        DT = DecisionTreeClassifier(criterion='gini', max_features=features)\n",
    "        param_grid = {\n",
    "            'max_depth': [2, 3, 5],\n",
    "            'min_samples_split': [5, 10, 15],\n",
    "            'min_samples_leaf': [1, 2, 4],\n",
    "        }\n",
    "\n",
    "        grid_search = GridSearchCV(DecisionTreeClassifier(), param_grid, cv=10)\n",
    "        grid_search.fit(X, Y)\n",
    "\n",
    "        best_params = grid_search.best_params_\n",
    "        best_model = grid_search.best_estimator_    \n",
    "        best_model.fit(bag_X, bag_Y)\n",
    "\n",
    "        my_rand_forest.append((best_model, selected_features))\n",
    "\n",
    "    return my_rand_forest, feature_count    "
   ]
  },
  {
   "cell_type": "code",
   "execution_count": 16,
   "metadata": {},
   "outputs": [
    {
     "name": "stderr",
     "output_type": "stream",
     "text": [
      "100%|██████████| 10/10 [00:20<00:00,  2.05s/it]\n"
     ]
    }
   ],
   "source": [
    "tuned_rf, fc = make__better_random_forest(X_train, Y_train, 10) # 10 trees due to time constraints"
   ]
  },
  {
   "cell_type": "markdown",
   "metadata": {},
   "source": [
    "### 5. comparing performance"
   ]
  },
  {
   "cell_type": "code",
   "execution_count": 17,
   "metadata": {},
   "outputs": [
    {
     "name": "stdout",
     "output_type": "stream",
     "text": [
      "Untuned: 0.844\n",
      "RF Tuned: 0.856\n",
      "DT Tuned: 0.842\n"
     ]
    }
   ],
   "source": [
    "acc1 = predict_and_evaluate(tuned_rf, X_val, Y_val)\n",
    "print(f\"Untuned: {acc}\")\n",
    "print(f\"RF Tuned: {acc_rf_tuned}\")\n",
    "print(f\"DT Tuned: {acc1}\")"
   ]
  },
  {
   "cell_type": "code",
   "execution_count": null,
   "metadata": {},
   "outputs": [],
   "source": []
  }
 ],
 "metadata": {
  "kernelspec": {
   "display_name": "Python 3",
   "language": "python",
   "name": "python3"
  },
  "language_info": {
   "codemirror_mode": {
    "name": "ipython",
    "version": 3
   },
   "file_extension": ".py",
   "mimetype": "text/x-python",
   "name": "python",
   "nbconvert_exporter": "python",
   "pygments_lexer": "ipython3",
   "version": "3.9.6"
  }
 },
 "nbformat": 4,
 "nbformat_minor": 2
}
